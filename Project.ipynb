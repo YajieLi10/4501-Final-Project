{
 "cells": [
  {
   "cell_type": "markdown",
   "id": "d4c5a136-e872-4846-9965-9ddc5251a0b3",
   "metadata": {},
   "source": [
    "# NYC Apartment Search\n",
    "\n",
    "_[Project prompt](https://docs.google.com/document/d/1BYVyFBDcTywdUlanH0ysfOrNWPgl7UkqXA7NeewTzxA/edit#heading=h.bpxu7uvknnbk)_\n",
    "\n",
    "_This scaffolding notebook may be used to help setup your final project. It's **totally optional** whether you make use of this or not._\n",
    "\n",
    "_If you do use this notebook, everything provided is optional as well - you may remove or add code as you wish._\n",
    "\n",
    "_**All code below should be consider \"pseudo-code\" - not functional by itself, and only an idea of a possible approach.**_"
   ]
  },
  {
   "cell_type": "markdown",
   "id": "bdf11fa0-4684-4f5e-8048-0f4cc5f4f243",
   "metadata": {},
   "source": [
    "## Setup"
   ]
  },
  {
   "cell_type": "code",
   "execution_count": 1,
   "id": "0f675d4b-794e-407c-aac9-b85c4a3975d2",
   "metadata": {},
   "outputs": [],
   "source": [
    "# All import statements needed for the project, for example:\n",
    "\n",
    "import json\n",
    "import pathlib\n",
    "import urllib.parse\n",
    "\n",
    "import geoalchemy2 as gdb\n",
    "import geopandas as gpd\n",
    "import matplotlib.pyplot as plt\n",
    "import pandas as pd\n",
    "import requests\n",
    "import shapely\n",
    "import sqlalchemy as db\n",
    "\n",
    "from sqlalchemy.orm import declarative_base"
   ]
  },
  {
   "cell_type": "code",
   "execution_count": null,
   "id": "cdce34af",
   "metadata": {},
   "outputs": [],
   "source": []
  },
  {
   "cell_type": "code",
   "execution_count": 83,
   "id": "70a62277-51cf-48a2-81d2-9b2127088a7e",
   "metadata": {},
   "outputs": [],
   "source": [
    "# Any constants you might need; some have been added for you\n",
    "\n",
    "# Where data files will be read from/written to - this should already exist\n",
    "DATA_DIR = pathlib.Path(\"data\")\n",
    "ZIPCODE_DATA_FILE = DATA_DIR / \"zipcodes\" / \"nyc_zipcodes.shp\"\n",
    "ZILLOW_DATA_FILE = DATA_DIR / \"zillow_rent_data.csv\"\n",
    "\n",
    "NYC_DATA_APP_TOKEN = \"FILL_ME_IN\"\n",
    "BASE_NYC_DATA_URL = \"https://data.cityofnewyork.us/\"\n",
    "NYC_DATA_311 = \"erm2-nwe9.geojson\"\n",
    "NYC_DATA_TREES = \"5rq2-4hqu.geojson\"\n",
    "\n",
    "# directory where DB queries for Part 3 will be saved\n",
    "QUERY_DIR = pathlib.Path(\"queries\")"
   ]
  },
  {
   "cell_type": "code",
   "execution_count": 84,
   "id": "cd67cca9-ec72-44e3-83b8-b65f1ed5bb2f",
   "metadata": {},
   "outputs": [],
   "source": [
    "# Make sure the QUERY_DIRECTORY exists\n",
    "if not QUERY_DIR.exists():\n",
    "    QUERY_DIR.mkdir()"
   ]
  },
  {
   "cell_type": "markdown",
   "id": "52476a07-9bf2-4b7a-8cb7-93648bb4d303",
   "metadata": {},
   "source": [
    "## Part 1: Data Preprocessing"
   ]
  },
  {
   "cell_type": "code",
   "execution_count": 246,
   "id": "ee245240-2fbb-45b8-9a92-4e2368f62c60",
   "metadata": {},
   "outputs": [],
   "source": [
    "def load_and_clean_zipcodes(zipcode_datafile):\n",
    "    # load data\n",
    "    df = gpd.read_file(zipcode_datafile)\n",
    "     \n",
    "    # Set up the headers to pass the application token\n",
    "    clean_columns = ['ZIPCODE','geometry']\n",
    "    df = df[clean_columns]\n",
    "    \n",
    "    # Remove invalid data points by rows\n",
    "    df = df.dropna()\n",
    "    \n",
    "    # Normalize column names to lowercase\n",
    "    df.columns = df.columns.str.lower()\n",
    "    df.rename(columns={'zipcode': 'zip_code'}, inplace=True)\n",
    "    \n",
    "    # remove duplicate zip codes\n",
    "    df.drop_duplicates(subset='zip_code', keep='first', inplace=True)\n",
    "    \n",
    "    # Normalize SRID\n",
    "    df['geometry'] = df['geometry'].to_crs(\"epsg:4326\")\n",
    "    \n",
    "    return df\n"
   ]
  },
  {
   "cell_type": "code",
   "execution_count": 18,
   "id": "9197a9b0",
   "metadata": {},
   "outputs": [],
   "source": [
    "from datetime import datetime"
   ]
  },
  {
   "cell_type": "code",
   "execution_count": 47,
   "id": "eed2a5a9-1027-4c41-bbb5-039c32ce7e9b",
   "metadata": {},
   "outputs": [],
   "source": [
    "def download_and_clean_311_data():\n",
    "    \n",
    "    #### Download the data\n",
    "    # Set up the url obtained the data from\n",
    "    url = \"https://data.cityofnewyork.us/resource/erm2-nwe9.geojson\"\n",
    "    \n",
    "    # Set up the headers to pass the application token\n",
    "    header = {\"X-App-Token\": \"oOu0LSU0TAyxOY44hvVXEv2hT\"}\n",
    "\n",
    "    # Set up the parameter to limit the number of rows and date range\n",
    "    start_date = datetime.strptime('10/01/2022', '%m/%d/%Y').strftime('%Y-%m-%dT%H:%M:%S')\n",
    "    end_date = datetime.strptime('09/30/2023', '%m/%d/%Y').strftime('%Y-%m-%dT%H:%M:%S')\n",
    "    \n",
    "    param = {\"$limit\": 5000\n",
    "            } # Need to adjust later\n",
    "\n",
    "    # Make the API request and download the geojson file to local\n",
    "    response = requests.get(url, headers=header, params=param)\n",
    "    \n",
    "    with open(\"data/nyc_311.geojson\", \"wb\") as file:\n",
    "        file.write(response.content)\n",
    "    \n",
    "    df = gpd.read_file(\"data/nyc_311.geojson\")\n",
    "                       \n",
    "    \n",
    "    #### Clean the data\n",
    "    # Select necessary columns and Remove the others\n",
    "    clean_columns = ['unique_key','created_date','complaint_type','incident_zip','geometry']\n",
    "    df = df[clean_columns]\n",
    "    \n",
    "    # Remove invalid data by rows\n",
    "    df.dropna(inplace=True)\n",
    "    \n",
    "    # Normalize column names and types if needed\n",
    "    df.rename(columns={'incident_zip': 'zip_code'}, inplace=True)\n",
    "    df['unique_key'] = df['unique_key'].astype('Int64')\n",
    "    df['zip_code'] = df['zip_code'].astype(\"string\")\n",
    "                       \n",
    "    return df\n"
   ]
  },
  {
   "cell_type": "code",
   "execution_count": 48,
   "id": "be56b34c",
   "metadata": {},
   "outputs": [
    {
     "data": {
      "text/html": [
       "<div>\n",
       "<style scoped>\n",
       "    .dataframe tbody tr th:only-of-type {\n",
       "        vertical-align: middle;\n",
       "    }\n",
       "\n",
       "    .dataframe tbody tr th {\n",
       "        vertical-align: top;\n",
       "    }\n",
       "\n",
       "    .dataframe thead th {\n",
       "        text-align: right;\n",
       "    }\n",
       "</style>\n",
       "<table border=\"1\" class=\"dataframe\">\n",
       "  <thead>\n",
       "    <tr style=\"text-align: right;\">\n",
       "      <th></th>\n",
       "      <th>unique_key</th>\n",
       "      <th>created_date</th>\n",
       "      <th>complaint_type</th>\n",
       "      <th>zip_code</th>\n",
       "      <th>geometry</th>\n",
       "    </tr>\n",
       "  </thead>\n",
       "  <tbody>\n",
       "    <tr>\n",
       "      <th>0</th>\n",
       "      <td>59682706</td>\n",
       "      <td>2023-12-09 12:00:00</td>\n",
       "      <td>Derelict Vehicles</td>\n",
       "      <td>11412</td>\n",
       "      <td>POINT (-73.75719 40.69898)</td>\n",
       "    </tr>\n",
       "    <tr>\n",
       "      <th>1</th>\n",
       "      <td>59683999</td>\n",
       "      <td>2023-12-09 12:00:00</td>\n",
       "      <td>Derelict Vehicles</td>\n",
       "      <td>11357</td>\n",
       "      <td>POINT (-73.82518 40.77956)</td>\n",
       "    </tr>\n",
       "    <tr>\n",
       "      <th>2</th>\n",
       "      <td>59681385</td>\n",
       "      <td>2023-12-09 12:00:00</td>\n",
       "      <td>Derelict Vehicles</td>\n",
       "      <td>11222</td>\n",
       "      <td>POINT (-73.94549 40.71914)</td>\n",
       "    </tr>\n",
       "    <tr>\n",
       "      <th>3</th>\n",
       "      <td>59681790</td>\n",
       "      <td>2023-12-09 02:41:46</td>\n",
       "      <td>Graffiti</td>\n",
       "      <td>10032</td>\n",
       "      <td>POINT (-73.94337 40.83670)</td>\n",
       "    </tr>\n",
       "    <tr>\n",
       "      <th>4</th>\n",
       "      <td>59684401</td>\n",
       "      <td>2023-12-09 02:06:35</td>\n",
       "      <td>Graffiti</td>\n",
       "      <td>11211</td>\n",
       "      <td>POINT (-73.95151 40.71341)</td>\n",
       "    </tr>\n",
       "    <tr>\n",
       "      <th>...</th>\n",
       "      <td>...</td>\n",
       "      <td>...</td>\n",
       "      <td>...</td>\n",
       "      <td>...</td>\n",
       "      <td>...</td>\n",
       "    </tr>\n",
       "    <tr>\n",
       "      <th>4995</th>\n",
       "      <td>59684672</td>\n",
       "      <td>2023-12-08 13:36:48</td>\n",
       "      <td>Noise - Street/Sidewalk</td>\n",
       "      <td>11374</td>\n",
       "      <td>POINT (-73.86006 40.73133)</td>\n",
       "    </tr>\n",
       "    <tr>\n",
       "      <th>4996</th>\n",
       "      <td>59680022</td>\n",
       "      <td>2023-12-08 13:36:47</td>\n",
       "      <td>Street Sign - Dangling</td>\n",
       "      <td>11693</td>\n",
       "      <td>POINT (-73.82164 40.61487)</td>\n",
       "    </tr>\n",
       "    <tr>\n",
       "      <th>4997</th>\n",
       "      <td>59683351</td>\n",
       "      <td>2023-12-08 13:36:42</td>\n",
       "      <td>Noise - Residential</td>\n",
       "      <td>10466</td>\n",
       "      <td>POINT (-73.84512 40.88620)</td>\n",
       "    </tr>\n",
       "    <tr>\n",
       "      <th>4998</th>\n",
       "      <td>59684241</td>\n",
       "      <td>2023-12-08 13:36:25</td>\n",
       "      <td>Traffic</td>\n",
       "      <td>10011</td>\n",
       "      <td>POINT (-74.00470 40.74471)</td>\n",
       "    </tr>\n",
       "    <tr>\n",
       "      <th>4999</th>\n",
       "      <td>59684132</td>\n",
       "      <td>2023-12-08 13:36:09</td>\n",
       "      <td>Vendor Enforcement</td>\n",
       "      <td>10019</td>\n",
       "      <td>POINT (-73.98433 40.76106)</td>\n",
       "    </tr>\n",
       "  </tbody>\n",
       "</table>\n",
       "<p>4930 rows × 5 columns</p>\n",
       "</div>"
      ],
      "text/plain": [
       "      unique_key        created_date           complaint_type zip_code  \\\n",
       "0       59682706 2023-12-09 12:00:00        Derelict Vehicles    11412   \n",
       "1       59683999 2023-12-09 12:00:00        Derelict Vehicles    11357   \n",
       "2       59681385 2023-12-09 12:00:00        Derelict Vehicles    11222   \n",
       "3       59681790 2023-12-09 02:41:46                 Graffiti    10032   \n",
       "4       59684401 2023-12-09 02:06:35                 Graffiti    11211   \n",
       "...          ...                 ...                      ...      ...   \n",
       "4995    59684672 2023-12-08 13:36:48  Noise - Street/Sidewalk    11374   \n",
       "4996    59680022 2023-12-08 13:36:47   Street Sign - Dangling    11693   \n",
       "4997    59683351 2023-12-08 13:36:42      Noise - Residential    10466   \n",
       "4998    59684241 2023-12-08 13:36:25                  Traffic    10011   \n",
       "4999    59684132 2023-12-08 13:36:09       Vendor Enforcement    10019   \n",
       "\n",
       "                        geometry  \n",
       "0     POINT (-73.75719 40.69898)  \n",
       "1     POINT (-73.82518 40.77956)  \n",
       "2     POINT (-73.94549 40.71914)  \n",
       "3     POINT (-73.94337 40.83670)  \n",
       "4     POINT (-73.95151 40.71341)  \n",
       "...                          ...  \n",
       "4995  POINT (-73.86006 40.73133)  \n",
       "4996  POINT (-73.82164 40.61487)  \n",
       "4997  POINT (-73.84512 40.88620)  \n",
       "4998  POINT (-74.00470 40.74471)  \n",
       "4999  POINT (-73.98433 40.76106)  \n",
       "\n",
       "[4930 rows x 5 columns]"
      ]
     },
     "execution_count": 48,
     "metadata": {},
     "output_type": "execute_result"
    }
   ],
   "source": [
    "test_311 = download_and_clean_311_data()\n",
    "test_311"
   ]
  },
  {
   "cell_type": "code",
   "execution_count": 23,
   "id": "39c4b1bc-c841-4b87-8301-1dc2cafeccc7",
   "metadata": {},
   "outputs": [],
   "source": [
    "def download_and_clean_tree_data():\n",
    "    \n",
    "    url = \"https://data.cityofnewyork.us/resource/5rq2-4hqu.geojson\"\n",
    "\n",
    "    # Set up the headers to pass the application token\n",
    "    header = {\"X-App-Token\": \"oOu0LSU0TAyxOY44hvVXEv2hT\"}\n",
    "\n",
    "    # Set up the parameter to limit the number of rows\n",
    "    param = {\"$limit\": 5000} #confirmed limits around 683788~ 684000 to used\n",
    "\n",
    "    # Make the API request and converting the JSON response to obtain a dataframe\n",
    "    response = requests.get(url,headers=header, params=param)\n",
    "    \n",
    "    with open(\"data/tree.geojson\", \"wb\") as file:\n",
    "        file.write(response.content)\n",
    "        \n",
    "    df = gpd.read_file(\"data/tree.geojson\")\n",
    "    \n",
    "    #### Clean the data\n",
    "    # Select necessary columns and Remove the others\n",
    "    clean_columns = ['tree_id','created_at','zipcode','spc_common','health','status','geometry']\n",
    "    df = df[clean_columns]\n",
    "\n",
    "    \n",
    "    # Remove invalid data by rows\n",
    "    df.dropna(inplace=True)\n",
    "    \n",
    "    # Normalize column names and types if needed\n",
    "    df.rename(columns={'zipcode': 'zip_code'}, inplace=True)\n",
    "    df.rename(columns={'spc_common': 'species'}, inplace=True)\n",
    "    \n",
    "    df['geometry'] = df['geometry'].to_crs(\"epsg:4326\")\n",
    "    \n",
    "    \n",
    "    return df"
   ]
  },
  {
   "cell_type": "code",
   "execution_count": 86,
   "id": "b8d5c473",
   "metadata": {},
   "outputs": [],
   "source": [
    "def load_and_clean_zillow_data():\n",
    "    # load the csv file\n",
    "    df = gpd.read_file(ZILLOW_DATA_FILE)\n",
    "    \n",
    "    #### Clean the data\n",
    "    # Filter out non-NYC cities\n",
    "    df = df[df['City']=='New York']\n",
    "\n",
    "    # Select necessary columns and Remove the others\n",
    "    clean_columns = ['RegionID','RegionName',r'2023/08/31',r'2023/01/31']\n",
    "    df = df[clean_columns]\n",
    "    \n",
    "    # Normalize column names and types if needed\n",
    "    df.columns = df.columns.str.lower()\n",
    "    df.rename(columns={'regionid': 'region_id'}, inplace=True)\n",
    "    df.rename(columns={'regionname': 'zip_code'}, inplace=True)\n",
    "    # df.rename(columns={r'2023/08/31': 'august2023'}, inplace=True)\n",
    "    # df.rename(columns={r'2023/01/31': 'january2023'}, inplace=True)\n",
    "    \n",
    "    # df['august2023'] = pd.to_numeric(df['august2023'])\n",
    "    # df['january2023'] = pd.to_numeric(df['january2023'])\n",
    "    \n",
    "    # Remove invalid data by rows\n",
    "    df.dropna(inplace=True)\n",
    "    \n",
    "    return df"
   ]
  },
  {
   "cell_type": "code",
   "execution_count": null,
   "id": "345ebc2c-14f1-490c-9857-11f1e332e3bc",
   "metadata": {},
   "outputs": [],
   "source": [
    "def load_all_data():\n",
    "    geodf_zipcode_data = load_and_clean_zipcodes(ZIPCODE_DATA_FILE)\n",
    "    geodf_311_data = download_and_clean_311_data()\n",
    "    geodf_tree_data = download_and_clean_tree_data()\n",
    "    df_zillow_data = load_and_clean_zillow_data()\n",
    "    return (\n",
    "        geodf_zipcode_data,\n",
    "        geodf_311_data,\n",
    "        geodf_tree_data,\n",
    "        df_zillow_data\n",
    "    )"
   ]
  },
  {
   "cell_type": "code",
   "execution_count": 44,
   "id": "f2768bc8-4130-4298-be28-13d4b250a666",
   "metadata": {},
   "outputs": [],
   "source": [
    "geodf_zipcode_data, geodf_311_data, geodf_tree_data, df_zillow_data = load_all_data()"
   ]
  },
  {
   "cell_type": "code",
   "execution_count": 15,
   "id": "23ad8bbc-bf91-457e-97db-a945fabeee29",
   "metadata": {},
   "outputs": [
    {
     "name": "stdout",
     "output_type": "stream",
     "text": [
      "<class 'geopandas.geodataframe.GeoDataFrame'>\n",
      "RangeIndex: 263 entries, 0 to 262\n",
      "Data columns (total 2 columns):\n",
      " #   Column    Non-Null Count  Dtype   \n",
      "---  ------    --------------  -----   \n",
      " 0   zip_code  263 non-null    object  \n",
      " 1   geometry  263 non-null    geometry\n",
      "dtypes: geometry(1), object(1)\n",
      "memory usage: 4.2+ KB\n"
     ]
    }
   ],
   "source": [
    "# Show basic info about each dataframe\n",
    "geodf_zipcode_data.info()"
   ]
  },
  {
   "cell_type": "code",
   "execution_count": 16,
   "id": "ec68f4be-f365-46c1-91a1-ab75deb75ff4",
   "metadata": {},
   "outputs": [
    {
     "data": {
      "text/plain": [
       "0      POLYGON ((-73.80585 40.68291, -73.80569 40.682...\n",
       "1      POLYGON ((-73.93740 40.67973, -73.93487 40.679...\n",
       "2      POLYGON ((-73.90294 40.67084, -73.90223 40.668...\n",
       "3      POLYGON ((-73.95797 40.67066, -73.95576 40.670...\n",
       "4      POLYGON ((-73.97208 40.65060, -73.97192 40.650...\n",
       "                             ...                        \n",
       "258    POLYGON ((-74.12065 40.64104, -74.12057 40.641...\n",
       "259    POLYGON ((-73.84076 40.62536, -73.84306 40.627...\n",
       "260    POLYGON ((-73.95805 40.72442, -73.95772 40.724...\n",
       "261    POLYGON ((-73.95133 40.76931, -73.95165 40.769...\n",
       "262    POLYGON ((-73.99354 40.75145, -73.99320 40.751...\n",
       "Name: geometry, Length: 263, dtype: geometry"
      ]
     },
     "execution_count": 16,
     "metadata": {},
     "output_type": "execute_result"
    }
   ],
   "source": [
    "# Show first 5 entries about each dataframe\n",
    "geodf_zipcode_data.geometry"
   ]
  },
  {
   "cell_type": "code",
   "execution_count": 17,
   "id": "6a803b68-2f07-44b8-8b24-d4f16c9e03fe",
   "metadata": {},
   "outputs": [
    {
     "name": "stdout",
     "output_type": "stream",
     "text": [
      "<class 'geopandas.geodataframe.GeoDataFrame'>\n",
      "Index: 4937 entries, 0 to 4999\n",
      "Data columns (total 4 columns):\n",
      " #   Column        Non-Null Count  Dtype         \n",
      "---  ------        --------------  -----         \n",
      " 0   unique_key    4937 non-null   Int64         \n",
      " 1   created_date  4937 non-null   datetime64[ns]\n",
      " 2   zip_code      4937 non-null   string        \n",
      " 3   geometry      4937 non-null   geometry      \n",
      "dtypes: Int64(1), datetime64[ns](1), geometry(1), string(1)\n",
      "memory usage: 197.7 KB\n"
     ]
    }
   ],
   "source": [
    "geodf_311_data.info()"
   ]
  },
  {
   "cell_type": "code",
   "execution_count": 18,
   "id": "14705df9-ea77-4d57-ac8e-1845f80a216d",
   "metadata": {},
   "outputs": [
    {
     "data": {
      "text/html": [
       "<div>\n",
       "<style scoped>\n",
       "    .dataframe tbody tr th:only-of-type {\n",
       "        vertical-align: middle;\n",
       "    }\n",
       "\n",
       "    .dataframe tbody tr th {\n",
       "        vertical-align: top;\n",
       "    }\n",
       "\n",
       "    .dataframe thead th {\n",
       "        text-align: right;\n",
       "    }\n",
       "</style>\n",
       "<table border=\"1\" class=\"dataframe\">\n",
       "  <thead>\n",
       "    <tr style=\"text-align: right;\">\n",
       "      <th></th>\n",
       "      <th>unique_key</th>\n",
       "      <th>created_date</th>\n",
       "      <th>zip_code</th>\n",
       "      <th>geometry</th>\n",
       "    </tr>\n",
       "  </thead>\n",
       "  <tbody>\n",
       "    <tr>\n",
       "      <th>0</th>\n",
       "      <td>59674686</td>\n",
       "      <td>2023-12-08 12:00:00</td>\n",
       "      <td>10033</td>\n",
       "      <td>POINT (-73.92843 40.85199)</td>\n",
       "    </tr>\n",
       "    <tr>\n",
       "      <th>1</th>\n",
       "      <td>59670275</td>\n",
       "      <td>2023-12-08 12:00:00</td>\n",
       "      <td>11369</td>\n",
       "      <td>POINT (-73.87725 40.75788)</td>\n",
       "    </tr>\n",
       "    <tr>\n",
       "      <th>2</th>\n",
       "      <td>59667305</td>\n",
       "      <td>2023-12-08 12:00:00</td>\n",
       "      <td>10033</td>\n",
       "      <td>POINT (-73.93274 40.84632)</td>\n",
       "    </tr>\n",
       "    <tr>\n",
       "      <th>4</th>\n",
       "      <td>59667303</td>\n",
       "      <td>2023-12-08 12:00:00</td>\n",
       "      <td>10019</td>\n",
       "      <td>POINT (-73.99209 40.76428)</td>\n",
       "    </tr>\n",
       "    <tr>\n",
       "      <th>5</th>\n",
       "      <td>59676143</td>\n",
       "      <td>2023-12-08 12:00:00</td>\n",
       "      <td>11231</td>\n",
       "      <td>POINT (-74.01050 40.67327)</td>\n",
       "    </tr>\n",
       "  </tbody>\n",
       "</table>\n",
       "</div>"
      ],
      "text/plain": [
       "   unique_key        created_date zip_code                    geometry\n",
       "0    59674686 2023-12-08 12:00:00    10033  POINT (-73.92843 40.85199)\n",
       "1    59670275 2023-12-08 12:00:00    11369  POINT (-73.87725 40.75788)\n",
       "2    59667305 2023-12-08 12:00:00    10033  POINT (-73.93274 40.84632)\n",
       "4    59667303 2023-12-08 12:00:00    10019  POINT (-73.99209 40.76428)\n",
       "5    59676143 2023-12-08 12:00:00    11231  POINT (-74.01050 40.67327)"
      ]
     },
     "execution_count": 18,
     "metadata": {},
     "output_type": "execute_result"
    }
   ],
   "source": [
    "geodf_311_data.head()"
   ]
  },
  {
   "cell_type": "code",
   "execution_count": 19,
   "id": "e6006cd2-3a00-4660-8d2a-a660b9bfd91e",
   "metadata": {},
   "outputs": [
    {
     "name": "stdout",
     "output_type": "stream",
     "text": [
      "<class 'geopandas.geodataframe.GeoDataFrame'>\n",
      "Index: 4810 entries, 0 to 4999\n",
      "Data columns (total 7 columns):\n",
      " #   Column      Non-Null Count  Dtype   \n",
      "---  ------      --------------  -----   \n",
      " 0   tree_id     4810 non-null   object  \n",
      " 1   created_at  4810 non-null   object  \n",
      " 2   zip_code    4810 non-null   object  \n",
      " 3   species     4810 non-null   object  \n",
      " 4   health      4810 non-null   object  \n",
      " 5   status      4810 non-null   object  \n",
      " 6   geometry    4810 non-null   geometry\n",
      "dtypes: geometry(1), object(6)\n",
      "memory usage: 300.6+ KB\n"
     ]
    }
   ],
   "source": [
    "geodf_tree_data.info()"
   ]
  },
  {
   "cell_type": "code",
   "execution_count": 20,
   "id": "07f880ef-c5fc-4159-8174-21ccd44f492d",
   "metadata": {},
   "outputs": [
    {
     "data": {
      "text/html": [
       "<div>\n",
       "<style scoped>\n",
       "    .dataframe tbody tr th:only-of-type {\n",
       "        vertical-align: middle;\n",
       "    }\n",
       "\n",
       "    .dataframe tbody tr th {\n",
       "        vertical-align: top;\n",
       "    }\n",
       "\n",
       "    .dataframe thead th {\n",
       "        text-align: right;\n",
       "    }\n",
       "</style>\n",
       "<table border=\"1\" class=\"dataframe\">\n",
       "  <thead>\n",
       "    <tr style=\"text-align: right;\">\n",
       "      <th></th>\n",
       "      <th>tree_id</th>\n",
       "      <th>created_at</th>\n",
       "      <th>zip_code</th>\n",
       "      <th>species</th>\n",
       "      <th>health</th>\n",
       "      <th>status</th>\n",
       "      <th>geometry</th>\n",
       "    </tr>\n",
       "  </thead>\n",
       "  <tbody>\n",
       "    <tr>\n",
       "      <th>0</th>\n",
       "      <td>180683</td>\n",
       "      <td>08/27/2015</td>\n",
       "      <td>11375</td>\n",
       "      <td>red maple</td>\n",
       "      <td>Fair</td>\n",
       "      <td>Alive</td>\n",
       "      <td>POINT (-73.84422 40.72309)</td>\n",
       "    </tr>\n",
       "    <tr>\n",
       "      <th>1</th>\n",
       "      <td>200540</td>\n",
       "      <td>09/03/2015</td>\n",
       "      <td>11357</td>\n",
       "      <td>pin oak</td>\n",
       "      <td>Fair</td>\n",
       "      <td>Alive</td>\n",
       "      <td>POINT (-73.81868 40.79411)</td>\n",
       "    </tr>\n",
       "    <tr>\n",
       "      <th>2</th>\n",
       "      <td>204026</td>\n",
       "      <td>09/05/2015</td>\n",
       "      <td>11211</td>\n",
       "      <td>honeylocust</td>\n",
       "      <td>Good</td>\n",
       "      <td>Alive</td>\n",
       "      <td>POINT (-73.93661 40.71758)</td>\n",
       "    </tr>\n",
       "    <tr>\n",
       "      <th>3</th>\n",
       "      <td>204337</td>\n",
       "      <td>09/05/2015</td>\n",
       "      <td>11211</td>\n",
       "      <td>honeylocust</td>\n",
       "      <td>Good</td>\n",
       "      <td>Alive</td>\n",
       "      <td>POINT (-73.93446 40.71354)</td>\n",
       "    </tr>\n",
       "    <tr>\n",
       "      <th>4</th>\n",
       "      <td>189565</td>\n",
       "      <td>08/30/2015</td>\n",
       "      <td>11215</td>\n",
       "      <td>American linden</td>\n",
       "      <td>Good</td>\n",
       "      <td>Alive</td>\n",
       "      <td>POINT (-73.97598 40.66678)</td>\n",
       "    </tr>\n",
       "  </tbody>\n",
       "</table>\n",
       "</div>"
      ],
      "text/plain": [
       "  tree_id  created_at zip_code          species health status  \\\n",
       "0  180683  08/27/2015    11375        red maple   Fair  Alive   \n",
       "1  200540  09/03/2015    11357          pin oak   Fair  Alive   \n",
       "2  204026  09/05/2015    11211      honeylocust   Good  Alive   \n",
       "3  204337  09/05/2015    11211      honeylocust   Good  Alive   \n",
       "4  189565  08/30/2015    11215  American linden   Good  Alive   \n",
       "\n",
       "                     geometry  \n",
       "0  POINT (-73.84422 40.72309)  \n",
       "1  POINT (-73.81868 40.79411)  \n",
       "2  POINT (-73.93661 40.71758)  \n",
       "3  POINT (-73.93446 40.71354)  \n",
       "4  POINT (-73.97598 40.66678)  "
      ]
     },
     "execution_count": 20,
     "metadata": {},
     "output_type": "execute_result"
    }
   ],
   "source": [
    "geodf_tree_data.head()"
   ]
  },
  {
   "cell_type": "code",
   "execution_count": 21,
   "id": "59724f74-5f1e-435c-b843-f381a875dd4a",
   "metadata": {},
   "outputs": [
    {
     "name": "stdout",
     "output_type": "stream",
     "text": [
      "<class 'pandas.core.frame.DataFrame'>\n",
      "Index: 121 entries, 4 to 6721\n",
      "Data columns (total 4 columns):\n",
      " #   Column       Non-Null Count  Dtype  \n",
      "---  ------       --------------  -----  \n",
      " 0   region_id    121 non-null    object \n",
      " 1   zip_code     121 non-null    object \n",
      " 2   august2023   121 non-null    float64\n",
      " 3   january2023  121 non-null    float64\n",
      "dtypes: float64(2), object(2)\n",
      "memory usage: 4.7+ KB\n"
     ]
    }
   ],
   "source": [
    "df_zillow_data.info()"
   ]
  },
  {
   "cell_type": "code",
   "execution_count": 22,
   "id": "e29ae5d9-9768-4590-a2f2-dd63b07dd712",
   "metadata": {},
   "outputs": [
    {
     "data": {
      "text/html": [
       "<div>\n",
       "<style scoped>\n",
       "    .dataframe tbody tr th:only-of-type {\n",
       "        vertical-align: middle;\n",
       "    }\n",
       "\n",
       "    .dataframe tbody tr th {\n",
       "        vertical-align: top;\n",
       "    }\n",
       "\n",
       "    .dataframe thead th {\n",
       "        text-align: right;\n",
       "    }\n",
       "</style>\n",
       "<table border=\"1\" class=\"dataframe\">\n",
       "  <thead>\n",
       "    <tr style=\"text-align: right;\">\n",
       "      <th></th>\n",
       "      <th>region_id</th>\n",
       "      <th>zip_code</th>\n",
       "      <th>august2023</th>\n",
       "      <th>january2023</th>\n",
       "    </tr>\n",
       "  </thead>\n",
       "  <tbody>\n",
       "    <tr>\n",
       "      <th>4</th>\n",
       "      <td>62093</td>\n",
       "      <td>11385</td>\n",
       "      <td>3064.476503</td>\n",
       "      <td>2895.699421</td>\n",
       "    </tr>\n",
       "    <tr>\n",
       "      <th>6</th>\n",
       "      <td>62019</td>\n",
       "      <td>11208</td>\n",
       "      <td>2737.547470</td>\n",
       "      <td>2588.030194</td>\n",
       "    </tr>\n",
       "    <tr>\n",
       "      <th>13</th>\n",
       "      <td>61807</td>\n",
       "      <td>10467</td>\n",
       "      <td>2353.686402</td>\n",
       "      <td>2155.617718</td>\n",
       "    </tr>\n",
       "    <tr>\n",
       "      <th>14</th>\n",
       "      <td>62085</td>\n",
       "      <td>11373</td>\n",
       "      <td>2302.557354</td>\n",
       "      <td>2255.604528</td>\n",
       "    </tr>\n",
       "    <tr>\n",
       "      <th>15</th>\n",
       "      <td>62037</td>\n",
       "      <td>11226</td>\n",
       "      <td>2785.320137</td>\n",
       "      <td>2680.683700</td>\n",
       "    </tr>\n",
       "  </tbody>\n",
       "</table>\n",
       "</div>"
      ],
      "text/plain": [
       "   region_id zip_code   august2023  january2023\n",
       "4      62093    11385  3064.476503  2895.699421\n",
       "6      62019    11208  2737.547470  2588.030194\n",
       "13     61807    10467  2353.686402  2155.617718\n",
       "14     62085    11373  2302.557354  2255.604528\n",
       "15     62037    11226  2785.320137  2680.683700"
      ]
     },
     "execution_count": 22,
     "metadata": {},
     "output_type": "execute_result"
    }
   ],
   "source": [
    "df_zillow_data.head()"
   ]
  },
  {
   "cell_type": "markdown",
   "id": "e685942c-26dc-40db-84c2-a71aa3340806",
   "metadata": {},
   "source": [
    "## Part 2: Storing Data"
   ]
  },
  {
   "cell_type": "code",
   "execution_count": 23,
   "id": "4a83978b",
   "metadata": {},
   "outputs": [],
   "source": [
    "DB_NAME = \"Final_Project\"\n",
    "DB_USER = \"postgres\"\n",
    "DB_URL = f\"postgresql+psycopg2://{DB_USER}@localhost/{DB_NAME}\"\n",
    "DB_SCHEMA_FILE = \"schema.sql\""
   ]
  },
  {
   "cell_type": "markdown",
   "id": "960f8681",
   "metadata": {},
   "source": [
    "### Creating Database"
   ]
  },
  {
   "cell_type": "code",
   "execution_count": 24,
   "id": "dbffcb18",
   "metadata": {},
   "outputs": [
    {
     "name": "stdout",
     "output_type": "stream",
     "text": [
      "createdb: error: database creation failed: ERROR:  database \"Final_Project\" already exists\r\n"
     ]
    }
   ],
   "source": [
    "!createdb Final_Project\n"
   ]
  },
  {
   "cell_type": "code",
   "execution_count": 25,
   "id": "36f7966c",
   "metadata": {},
   "outputs": [
    {
     "name": "stdout",
     "output_type": "stream",
     "text": [
      "ERROR:  extension \"postgis\" already exists\r\n"
     ]
    }
   ],
   "source": [
    "!psql --dbname Final_Project -c 'CREATE EXTENSION postgis;'"
   ]
  },
  {
   "cell_type": "code",
   "execution_count": 26,
   "id": "98acc431",
   "metadata": {},
   "outputs": [],
   "source": [
    "#pip install psycopg2-binary"
   ]
  },
  {
   "cell_type": "code",
   "execution_count": 27,
   "id": "b9e1f23c",
   "metadata": {},
   "outputs": [],
   "source": [
    "import psycopg2"
   ]
  },
  {
   "cell_type": "code",
   "execution_count": 28,
   "id": "f349fbdd-67d0-40a4-97a0-d9b8c8ec8013",
   "metadata": {},
   "outputs": [],
   "source": [
    "def setup_new_postgis_database(username, db_name):\n",
    "    conn = psycopg2.connect(dbname=db_name, user=username)\n",
    "    return conn"
   ]
  },
  {
   "cell_type": "code",
   "execution_count": 29,
   "id": "590ed80d-7b60-484f-a123-23b673b0f440",
   "metadata": {},
   "outputs": [
    {
     "data": {
      "text/plain": [
       "<connection object at 0x2812538b0; dsn: 'dbname=Final_Project user=postgres', closed: 0>"
      ]
     },
     "execution_count": 29,
     "metadata": {},
     "output_type": "execute_result"
    }
   ],
   "source": [
    "setup_new_postgis_database(DB_USER, DB_NAME)"
   ]
  },
  {
   "cell_type": "markdown",
   "id": "527a251c-f337-4b24-bb41-96ee4621a9bd",
   "metadata": {},
   "source": [
    "### Creating Tables\n",
    "\n",
    "\n",
    "These are just a couple of options to creating your tables; you can use one or the other, a different method, or a combination."
   ]
  },
  {
   "cell_type": "code",
   "execution_count": 30,
   "id": "e3d72390-3c2d-4856-82c0-3284e8ccb24e",
   "metadata": {},
   "outputs": [],
   "source": [
    "engine = db.create_engine(DB_URL)"
   ]
  },
  {
   "cell_type": "code",
   "execution_count": 40,
   "id": "f36d86f6-ff6e-4bb8-8fa2-df0d4282e959",
   "metadata": {},
   "outputs": [],
   "source": [
    "# create that required schema.sql file\n",
    "with open(DB_SCHEMA_FILE, \"w\") as f:\n",
    "    f.write(ZIPCODE_SCHEMA + \";\\n\")\n",
    "    f.write(NYC_311_SCHEMA + \";\\n\")\n",
    "    f.write(NYC_TREE_SCHEMA + \";\\n\")\n",
    "    f.write(ZILLOW_SCHEMA + \";\\n\")"
   ]
  },
  {
   "cell_type": "code",
   "execution_count": 41,
   "id": "48eacd37-4fd7-4768-b689-88b07d5c234e",
   "metadata": {},
   "outputs": [],
   "source": [
    "# If using SQL (as opposed to SQLAlchemy), execute the schema files to create tables\n",
    "with engine.connect() as connection:\n",
    "    connection.execute(open(DB_SCHEMA_FILE, \"r\").read())"
   ]
  },
  {
   "cell_type": "markdown",
   "id": "2e88a50c-9528-4a5c-9a52-b96781ee8985",
   "metadata": {},
   "source": [
    "### Add Data to Database\n",
    "\n",
    "These are just a couple of options to write data to your tables; you can use one or the other, a different method, or a combination."
   ]
  },
  {
   "cell_type": "markdown",
   "id": "0d480970",
   "metadata": {},
   "source": [
    "## Part 3: Understanding the Data"
   ]
  },
  {
   "cell_type": "code",
   "execution_count": 47,
   "id": "43e042cf",
   "metadata": {},
   "outputs": [],
   "source": [
    "# Helper function to write the queries to file\n",
    "def write_query_to_file(query, outfile):\n",
    "    with open(outfile, 'w') as file:\n",
    "        file.write(query)\n",
    "    "
   ]
  },
  {
   "cell_type": "markdown",
   "id": "7ac7e12b-e251-4f08-8dc5-601db30c2089",
   "metadata": {},
   "source": [
    "### Query 1"
   ]
  },
  {
   "cell_type": "code",
   "execution_count": 49,
   "id": "ce044adf-ecdf-4237-9b20-b7cdaaab0c6c",
   "metadata": {},
   "outputs": [],
   "source": [
    "with engine.connect() as conn:\n",
    "    result = conn.execute(db.text(QUERY_1))\n",
    "    for row in result:\n",
    "        print(row)"
   ]
  },
  {
   "cell_type": "code",
   "execution_count": 50,
   "id": "4b7b2c3d-8961-4c7e-8eb1-fc973d0ab9c1",
   "metadata": {},
   "outputs": [],
   "source": [
    "write_query_to_file(QUERY_1, QUERY_1_FILENAME)"
   ]
  },
  {
   "cell_type": "code",
   "execution_count": 51,
   "id": "3c3c6cd6",
   "metadata": {},
   "outputs": [
    {
     "name": "stdout",
     "output_type": "stream",
     "text": [
      "Empty DataFrame\n",
      "Columns: [zip_code, num_complaints]\n",
      "Index: []\n"
     ]
    }
   ],
   "source": [
    "# Able to delete later\n",
    "with engine.connect() as connection:\n",
    "    df = pd.read_sql_query(QUERY_1, connection)\n",
    "print(df)"
   ]
  },
  {
   "cell_type": "markdown",
   "id": "62eede13",
   "metadata": {},
   "source": [
    "### Query 2"
   ]
  },
  {
   "cell_type": "code",
   "execution_count": 72,
   "id": "a0f90035",
   "metadata": {},
   "outputs": [
    {
     "name": "stdout",
     "output_type": "stream",
     "text": [
      "('10306', 180)\n",
      "('11105', 176)\n",
      "('11375', 157)\n",
      "('10457', 136)\n",
      "('11215', 127)\n",
      "('10024', 123)\n",
      "('10458', 120)\n",
      "('11230', 115)\n",
      "('11205', 112)\n",
      "('10312', 107)\n"
     ]
    }
   ],
   "source": [
    "with engine.connect() as conn:\n",
    "    result = conn.execute(db.text(QUERY_2))\n",
    "    for row in result:\n",
    "        print(row)\n",
    "    "
   ]
  },
  {
   "cell_type": "code",
   "execution_count": 73,
   "id": "bd2bbd20",
   "metadata": {},
   "outputs": [],
   "source": [
    "write_query_to_file(QUERY_2, QUERY_2_FILENAME)"
   ]
  },
  {
   "cell_type": "code",
   "execution_count": 74,
   "id": "a8c93c45",
   "metadata": {},
   "outputs": [
    {
     "name": "stdout",
     "output_type": "stream",
     "text": [
      "  zip_code  num_trees\n",
      "0    10306        180\n",
      "1    11105        176\n",
      "2    11375        157\n",
      "3    10457        136\n",
      "4    11215        127\n",
      "5    10024        123\n",
      "6    10458        120\n",
      "7    11230        115\n",
      "8    11205        112\n",
      "9    10312        107\n"
     ]
    }
   ],
   "source": [
    "# Able to delete later\n",
    "with engine.connect() as connection:\n",
    "    df = pd.read_sql_query(QUERY_2, connection)\n",
    "print(df)"
   ]
  },
  {
   "cell_type": "markdown",
   "id": "e18ccf76",
   "metadata": {},
   "source": [
    "### Query 3"
   ]
  },
  {
   "cell_type": "code",
   "execution_count": 76,
   "id": "112a0409",
   "metadata": {},
   "outputs": [
    {
     "name": "stdout",
     "output_type": "stream",
     "text": [
      "('10306', Decimal('2331.54'))\n",
      "('11105', Decimal('2852.73'))\n",
      "('11375', Decimal('2743.40'))\n",
      "('10457', Decimal('2183.97'))\n",
      "('11215', Decimal('3575.65'))\n",
      "('10024', Decimal('3797.94'))\n",
      "('10458', Decimal('1991.63'))\n",
      "('11230', Decimal('2657.04'))\n",
      "('11205', Decimal('3497.47'))\n"
     ]
    }
   ],
   "source": [
    "with engine.connect() as conn:\n",
    "    result = conn.execute(db.text(QUERY_3))\n",
    "    for row in result:\n",
    "        print(row)"
   ]
  },
  {
   "cell_type": "markdown",
   "id": "9b86d1b5",
   "metadata": {},
   "source": [
    "### Query 4"
   ]
  },
  {
   "cell_type": "code",
   "execution_count": 79,
   "id": "5f9837bd",
   "metadata": {},
   "outputs": [
    {
     "name": "stdout",
     "output_type": "stream",
     "text": [
      "('10309', Decimal('1380.51'), 16, 7)\n",
      "('10462', Decimal('1801.89'), 1, 30)\n",
      "('10453', Decimal('1820.23'), 18, 60)\n",
      "('11357', Decimal('1829.66'), 28, 35)\n",
      "('10458', Decimal('1883.08'), 120, 65)\n",
      "('10011', Decimal('4741.87'), 15, 29)\n",
      "('10069', Decimal('4959.67'), 2, 1)\n",
      "('10013', Decimal('5480.11'), 3, 19)\n",
      "('10282', Decimal('7143.35'), 0, 1)\n",
      "('10007', Decimal('7270.24'), 0, 2)\n"
     ]
    }
   ],
   "source": [
    "with engine.connect() as conn:\n",
    "    result = conn.execute(db.text(QUERY_4))\n",
    "    for row in result:\n",
    "        print(row)"
   ]
  },
  {
   "cell_type": "markdown",
   "id": "6f15258c",
   "metadata": {},
   "source": [
    "### Query 5"
   ]
  },
  {
   "cell_type": "code",
   "execution_count": 82,
   "id": "65c360d4",
   "metadata": {},
   "outputs": [
    {
     "name": "stdout",
     "output_type": "stream",
     "text": [
      "('10306', 180)\n",
      "('11105', 176)\n",
      "('11375', 157)\n",
      "('10457', 136)\n",
      "('11215', 127)\n",
      "('10024', 123)\n",
      "('10458', 120)\n",
      "('11230', 115)\n",
      "('11205', 112)\n",
      "('10312', 107)\n"
     ]
    }
   ],
   "source": [
    "with engine.connect() as conn:\n",
    "    result = conn.execute(db.text(QUERY_5))\n",
    "    for row in result:\n",
    "        print(row)"
   ]
  },
  {
   "cell_type": "markdown",
   "id": "61b1a594",
   "metadata": {},
   "source": [
    "### Query 6"
   ]
  },
  {
   "cell_type": "code",
   "execution_count": null,
   "id": "f329a294",
   "metadata": {},
   "outputs": [],
   "source": [
    "with engine.connect() as conn:\n",
    "    result = conn.execute(db.text(QUERY_4))\n",
    "    for row in result:\n",
    "        print(row)"
   ]
  },
  {
   "cell_type": "markdown",
   "id": "75223ce5-6ab5-4613-b6af-fa8e33bcc7d5",
   "metadata": {},
   "source": [
    "## Part 4: Visualizing the Data"
   ]
  },
  {
   "cell_type": "markdown",
   "id": "b21fcfed-ddbb-4908-a60e-ed7cbc6d5b00",
   "metadata": {},
   "source": [
    "### Visualization 1"
   ]
  },
  {
   "cell_type": "code",
   "execution_count": 142,
   "id": "c57407c0",
   "metadata": {},
   "outputs": [
    {
     "name": "stdout",
     "output_type": "stream",
     "text": [
      "                  type        date  count\n",
      "0  Noise - Residential  2023-12-09    172\n",
      "1       HEAT/HOT WATER  2023-12-08   1097\n",
      "2  Noise - Residential  2023-12-07    613\n",
      "3      Illegal Parking  2023-12-08   1408\n",
      "4  Noise - Residential  2023-12-08    756\n",
      "5       HEAT/HOT WATER  2023-12-07   1874\n",
      "6      Illegal Parking  2023-12-09     74\n",
      "7      Illegal Parking  2023-12-07   1406\n"
     ]
    }
   ],
   "source": [
    "file_path = \"vis1.csv\" \n",
    "df = pd.read_csv(file_path)\n",
    "\n",
    "# 显示 DataFrame 的前几行数据\n",
    "print(df)\n"
   ]
  },
  {
   "cell_type": "code",
   "execution_count": null,
   "id": "54da4052",
   "metadata": {},
   "outputs": [],
   "source": [
    "def get_data_for_visual_1():\n",
    "    \"\"\" \n",
    "    Write a query to get data from database for Visualization 1 and return to a dataframe \n",
    "    \n",
    "    \"\"\""
   ]
  },
  {
   "cell_type": "markdown",
   "id": "d97619f7",
   "metadata": {},
   "source": [
    "## Visualization 2"
   ]
  },
  {
   "cell_type": "markdown",
   "id": "0b431556",
   "metadata": {},
   "source": [
    "## Visualization 3"
   ]
  },
  {
   "cell_type": "markdown",
   "id": "d868013d",
   "metadata": {},
   "source": [
    "## Visualization 4"
   ]
  },
  {
   "cell_type": "markdown",
   "id": "9404375d",
   "metadata": {},
   "source": [
    "## Visualization 5"
   ]
  },
  {
   "cell_type": "markdown",
   "id": "7d26b843",
   "metadata": {},
   "source": [
    "## Visualization 6"
   ]
  },
  {
   "cell_type": "code",
   "execution_count": null,
   "id": "c0e4f75b",
   "metadata": {},
   "outputs": [],
   "source": []
  },
  {
   "cell_type": "code",
   "execution_count": null,
   "id": "fdb3c6f5",
   "metadata": {},
   "outputs": [],
   "source": []
  }
 ],
 "metadata": {
  "kernelspec": {
   "display_name": "Python 3 (ipykernel)",
   "language": "python",
   "name": "python3"
  },
  "language_info": {
   "codemirror_mode": {
    "name": "ipython",
    "version": 3
   },
   "file_extension": ".py",
   "mimetype": "text/x-python",
   "name": "python",
   "nbconvert_exporter": "python",
   "pygments_lexer": "ipython3",
   "version": "3.11.4"
  }
 },
 "nbformat": 4,
 "nbformat_minor": 5
}
